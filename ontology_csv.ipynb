{
  "nbformat": 4,
  "nbformat_minor": 0,
  "metadata": {
    "colab": {
      "provenance": [],
      "authorship_tag": "ABX9TyM9wayji+5m/ZH4LyJjt5/t",
      "include_colab_link": true
    },
    "kernelspec": {
      "name": "python3",
      "display_name": "Python 3"
    },
    "language_info": {
      "name": "python"
    }
  },
  "cells": [
    {
      "cell_type": "markdown",
      "metadata": {
        "id": "view-in-github",
        "colab_type": "text"
      },
      "source": [
        "<a href=\"https://colab.research.google.com/github/UniCandice/Ontology/blob/main/ontology_csv.ipynb\" target=\"_parent\"><img src=\"https://colab.research.google.com/assets/colab-badge.svg\" alt=\"Open In Colab\"/></a>"
      ]
    },
    {
      "cell_type": "code",
      "source": [
        "! pip install rdflib"
      ],
      "metadata": {
        "colab": {
          "base_uri": "https://localhost:8080/"
        },
        "id": "XL7nbbGqbuks",
        "outputId": "515902fa-9805-4734-a8c3-ef93bb714f8d"
      },
      "execution_count": null,
      "outputs": [
        {
          "output_type": "stream",
          "name": "stdout",
          "text": [
            "Collecting rdflib\n",
            "  Downloading rdflib-7.1.0-py3-none-any.whl.metadata (11 kB)\n",
            "Collecting html5lib-modern<2.0,>=1.2 (from rdflib)\n",
            "  Downloading html5lib_modern-1.2-py2.py3-none-any.whl.metadata (7.8 kB)\n",
            "Collecting isodate<1.0.0,>=0.7.2 (from rdflib)\n",
            "  Downloading isodate-0.7.2-py3-none-any.whl.metadata (11 kB)\n",
            "Requirement already satisfied: pyparsing<4,>=2.1.0 in /usr/local/lib/python3.10/dist-packages (from rdflib) (3.2.0)\n",
            "Downloading rdflib-7.1.0-py3-none-any.whl (562 kB)\n",
            "\u001b[2K   \u001b[90m━━━━━━━━━━━━━━━━━━━━━━━━━━━━━━━━━━━━━━━━\u001b[0m \u001b[32m562.1/562.1 kB\u001b[0m \u001b[31m8.1 MB/s\u001b[0m eta \u001b[36m0:00:00\u001b[0m\n",
            "\u001b[?25hDownloading html5lib_modern-1.2-py2.py3-none-any.whl (116 kB)\n",
            "\u001b[2K   \u001b[90m━━━━━━━━━━━━━━━━━━━━━━━━━━━━━━━━━━━━━━━━\u001b[0m \u001b[32m116.2/116.2 kB\u001b[0m \u001b[31m9.0 MB/s\u001b[0m eta \u001b[36m0:00:00\u001b[0m\n",
            "\u001b[?25hDownloading isodate-0.7.2-py3-none-any.whl (22 kB)\n",
            "Installing collected packages: isodate, html5lib-modern, rdflib\n",
            "Successfully installed html5lib-modern-1.2 isodate-0.7.2 rdflib-7.1.0\n"
          ]
        }
      ]
    },
    {
      "cell_type": "code",
      "execution_count": null,
      "metadata": {
        "id": "vaGc8MWOa0n3"
      },
      "outputs": [],
      "source": [
        "import pandas as pd\n",
        "from rdflib import Graph, URIRef, Literal, Namespace\n",
        "from rdflib.namespace import XSD"
      ]
    },
    {
      "cell_type": "code",
      "source": [
        "# Load the CSV file into a DataFrame\n",
        "df = pd.read_csv('timeseries.csv')"
      ],
      "metadata": {
        "id": "zk7vk_GVbJpe"
      },
      "execution_count": null,
      "outputs": []
    },
    {
      "cell_type": "code",
      "source": [
        "print(df)"
      ],
      "metadata": {
        "colab": {
          "base_uri": "https://localhost:8080/"
        },
        "id": "XaNaYfcFeDpN",
        "outputId": "72cc8a17-42dc-4e2f-81a4-9eb13737d269"
      },
      "execution_count": null,
      "outputs": [
        {
          "output_type": "stream",
          "name": "stdout",
          "text": [
            "             Timestamp  Density  Temperature  Current   SOC\n",
            "0  2024-10-01T12:00:00     1.20         30.0      5.0  0.80\n",
            "1  2024-10-01T12:01:00     1.30         31.0      6.0  0.79\n",
            "2  2024-10-01T12:02:00     1.25         30.5      5.5  0.82\n",
            "3  2024-10-01T12:03:00     1.40         32.0      7.0  0.78\n",
            "4  2024-10-01T12:04:00     1.35         31.5      6.5  0.80\n",
            "5  2024-10-01T12:05:00     1.30         30.0      5.0  0.77\n",
            "6  2024-10-01T12:06:00     1.40         29.0      6.0  0.76\n",
            "7  2024-10-01T12:07:00     1.45         30.0      7.5  0.75\n",
            "8  2024-10-01T12:08:00     1.50         31.0      8.0  0.74\n",
            "9  2024-10-01T12:09:00     1.55         32.0      9.0  0.73\n"
          ]
        }
      ]
    },
    {
      "cell_type": "code",
      "source": [
        "# Create a new RDF graph\n",
        "g = Graph()\n",
        "\n",
        "# Define a namespace for your ontology\n",
        "TS = Namespace(\"http://example.org/timeseries#\")"
      ],
      "metadata": {
        "id": "LCNNuRboeu_-"
      },
      "execution_count": null,
      "outputs": []
    },
    {
      "cell_type": "code",
      "source": [
        "# Create a TimeSeries instance\n",
        "time_series_instance = TS.TimeSeries1\n",
        "g.add((time_series_instance, URIRef(\"http://example.org/timeseries#isA\"), URIRef(\"http://example.org/timeseries#TimeSeries\")))\n"
      ],
      "metadata": {
        "colab": {
          "base_uri": "https://localhost:8080/"
        },
        "id": "u984QHTffBws",
        "outputId": "e753025b-1176-473a-bc85-63e5469ad20b"
      },
      "execution_count": null,
      "outputs": [
        {
          "output_type": "execute_result",
          "data": {
            "text/plain": [
              "<Graph identifier=N7f6292b996684900bb5d1bd44e509dac (<class 'rdflib.graph.Graph'>)>"
            ]
          },
          "metadata": {},
          "execution_count": 14
        }
      ]
    },
    {
      "cell_type": "code",
      "source": [
        "# Populate the RDF graph with data\n",
        "for index, row in df.iterrows():\n",
        "    measurement = TS[f\"Measurement{index + 1}\"]  # Unique URI for each measurement\n",
        "\n",
        "    g.add((measurement, URIRef(\"http://example.org/timeseries#isA\"), URIRef(\"http://example.org/timeseries#Measurement\")))\n",
        "    g.add((measurement, URIRef(\"http://example.org/timeseries#densityValue\"), Literal(row['Density'], datatype=XSD.float)))\n",
        "    g.add((measurement, URIRef(\"http://example.org/timeseries#temperatureValue\"), Literal(row['Temperature'], datatype=XSD.float)))\n",
        "    g.add((measurement, URIRef(\"http://example.org/timeseries#currentValue\"), Literal(row['Current'], datatype=XSD.float)))\n",
        "    g.add((measurement, URIRef(\"http://example.org/timeseries#SOCValue\"), Literal(row['SOC'], datatype=XSD.float)))\n",
        "    g.add((measurement, URIRef(\"http://example.org/timeseries#timestamp\"), Literal(row['Timestamp'], datatype=XSD.dateTime)))\n",
        "    g.add((measurement, URIRef(\"http://example.org/timeseries#hasMeasurement\"), time_series_instance))"
      ],
      "metadata": {
        "id": "gINl5oGUfC53"
      },
      "execution_count": null,
      "outputs": []
    },
    {
      "cell_type": "code",
      "source": [
        "# Save the graph to a Turtle file\n",
        "g.serialize(destination='timeseries.ttl', format='turtle')"
      ],
      "metadata": {
        "colab": {
          "base_uri": "https://localhost:8080/"
        },
        "id": "X8CWw78SfLqp",
        "outputId": "b1ff99a4-d7f1-4fae-b6f5-339e50e13a37"
      },
      "execution_count": null,
      "outputs": [
        {
          "output_type": "execute_result",
          "data": {
            "text/plain": [
              "<Graph identifier=N7f6292b996684900bb5d1bd44e509dac (<class 'rdflib.graph.Graph'>)>"
            ]
          },
          "metadata": {},
          "execution_count": 16
        }
      ]
    },
    {
      "cell_type": "code",
      "source": [
        "# Print the RDF graph in Turtle format\n",
        "print(g.serialize(format='turtle'))\n"
      ],
      "metadata": {
        "colab": {
          "base_uri": "https://localhost:8080/"
        },
        "id": "0DdLJ3GHfSFx",
        "outputId": "c8fde454-8f96-48a6-f5de-79268e89bdcc"
      },
      "execution_count": null,
      "outputs": [
        {
          "output_type": "stream",
          "name": "stdout",
          "text": [
            "@prefix ns1: <http://example.org/timeseries#> .\n",
            "@prefix xsd: <http://www.w3.org/2001/XMLSchema#> .\n",
            "\n",
            "ns1:Measurement1 ns1:SOCValue \"0.8\"^^xsd:float ;\n",
            "    ns1:currentValue \"5.0\"^^xsd:float ;\n",
            "    ns1:densityValue \"1.2\"^^xsd:float ;\n",
            "    ns1:hasMeasurement ns1:TimeSeries1 ;\n",
            "    ns1:isA ns1:Measurement ;\n",
            "    ns1:temperatureValue \"30.0\"^^xsd:float ;\n",
            "    ns1:timestamp \"2024-10-01T12:00:00\"^^xsd:dateTime .\n",
            "\n",
            "ns1:Measurement10 ns1:SOCValue \"0.73\"^^xsd:float ;\n",
            "    ns1:currentValue \"9.0\"^^xsd:float ;\n",
            "    ns1:densityValue \"1.55\"^^xsd:float ;\n",
            "    ns1:hasMeasurement ns1:TimeSeries1 ;\n",
            "    ns1:isA ns1:Measurement ;\n",
            "    ns1:temperatureValue \"32.0\"^^xsd:float ;\n",
            "    ns1:timestamp \"2024-10-01T12:09:00\"^^xsd:dateTime .\n",
            "\n",
            "ns1:Measurement2 ns1:SOCValue \"0.79\"^^xsd:float ;\n",
            "    ns1:currentValue \"6.0\"^^xsd:float ;\n",
            "    ns1:densityValue \"1.3\"^^xsd:float ;\n",
            "    ns1:hasMeasurement ns1:TimeSeries1 ;\n",
            "    ns1:isA ns1:Measurement ;\n",
            "    ns1:temperatureValue \"31.0\"^^xsd:float ;\n",
            "    ns1:timestamp \"2024-10-01T12:01:00\"^^xsd:dateTime .\n",
            "\n",
            "ns1:Measurement3 ns1:SOCValue \"0.82\"^^xsd:float ;\n",
            "    ns1:currentValue \"5.5\"^^xsd:float ;\n",
            "    ns1:densityValue \"1.25\"^^xsd:float ;\n",
            "    ns1:hasMeasurement ns1:TimeSeries1 ;\n",
            "    ns1:isA ns1:Measurement ;\n",
            "    ns1:temperatureValue \"30.5\"^^xsd:float ;\n",
            "    ns1:timestamp \"2024-10-01T12:02:00\"^^xsd:dateTime .\n",
            "\n",
            "ns1:Measurement4 ns1:SOCValue \"0.78\"^^xsd:float ;\n",
            "    ns1:currentValue \"7.0\"^^xsd:float ;\n",
            "    ns1:densityValue \"1.4\"^^xsd:float ;\n",
            "    ns1:hasMeasurement ns1:TimeSeries1 ;\n",
            "    ns1:isA ns1:Measurement ;\n",
            "    ns1:temperatureValue \"32.0\"^^xsd:float ;\n",
            "    ns1:timestamp \"2024-10-01T12:03:00\"^^xsd:dateTime .\n",
            "\n",
            "ns1:Measurement5 ns1:SOCValue \"0.8\"^^xsd:float ;\n",
            "    ns1:currentValue \"6.5\"^^xsd:float ;\n",
            "    ns1:densityValue \"1.35\"^^xsd:float ;\n",
            "    ns1:hasMeasurement ns1:TimeSeries1 ;\n",
            "    ns1:isA ns1:Measurement ;\n",
            "    ns1:temperatureValue \"31.5\"^^xsd:float ;\n",
            "    ns1:timestamp \"2024-10-01T12:04:00\"^^xsd:dateTime .\n",
            "\n",
            "ns1:Measurement6 ns1:SOCValue \"0.77\"^^xsd:float ;\n",
            "    ns1:currentValue \"5.0\"^^xsd:float ;\n",
            "    ns1:densityValue \"1.3\"^^xsd:float ;\n",
            "    ns1:hasMeasurement ns1:TimeSeries1 ;\n",
            "    ns1:isA ns1:Measurement ;\n",
            "    ns1:temperatureValue \"30.0\"^^xsd:float ;\n",
            "    ns1:timestamp \"2024-10-01T12:05:00\"^^xsd:dateTime .\n",
            "\n",
            "ns1:Measurement7 ns1:SOCValue \"0.76\"^^xsd:float ;\n",
            "    ns1:currentValue \"6.0\"^^xsd:float ;\n",
            "    ns1:densityValue \"1.4\"^^xsd:float ;\n",
            "    ns1:hasMeasurement ns1:TimeSeries1 ;\n",
            "    ns1:isA ns1:Measurement ;\n",
            "    ns1:temperatureValue \"29.0\"^^xsd:float ;\n",
            "    ns1:timestamp \"2024-10-01T12:06:00\"^^xsd:dateTime .\n",
            "\n",
            "ns1:Measurement8 ns1:SOCValue \"0.75\"^^xsd:float ;\n",
            "    ns1:currentValue \"7.5\"^^xsd:float ;\n",
            "    ns1:densityValue \"1.45\"^^xsd:float ;\n",
            "    ns1:hasMeasurement ns1:TimeSeries1 ;\n",
            "    ns1:isA ns1:Measurement ;\n",
            "    ns1:temperatureValue \"30.0\"^^xsd:float ;\n",
            "    ns1:timestamp \"2024-10-01T12:07:00\"^^xsd:dateTime .\n",
            "\n",
            "ns1:Measurement9 ns1:SOCValue \"0.74\"^^xsd:float ;\n",
            "    ns1:currentValue \"8.0\"^^xsd:float ;\n",
            "    ns1:densityValue \"1.5\"^^xsd:float ;\n",
            "    ns1:hasMeasurement ns1:TimeSeries1 ;\n",
            "    ns1:isA ns1:Measurement ;\n",
            "    ns1:temperatureValue \"31.0\"^^xsd:float ;\n",
            "    ns1:timestamp \"2024-10-01T12:08:00\"^^xsd:dateTime .\n",
            "\n",
            "ns1:TimeSeries1 ns1:isA ns1:TimeSeries .\n",
            "\n",
            "\n"
          ]
        }
      ]
    },
    {
      "cell_type": "code",
      "source": [],
      "metadata": {
        "id": "qh0YeBsrfg5t"
      },
      "execution_count": null,
      "outputs": []
    },
    {
      "cell_type": "code",
      "execution_count": null,
      "metadata": {
        "colab": {
          "base_uri": "https://localhost:8080/"
        },
        "id": "tNODl05ojz3b",
        "outputId": "4a0100be-89c1-42a2-cf41-03e6a7c09718"
      },
      "outputs": [
        {
          "output_type": "stream",
          "name": "stdout",
          "text": [
            "@prefix owl: <http://www.w3.org/2002/07/owl#> .\n",
            "@prefix rdfs: <http://www.w3.org/2000/01/rdf-schema#> .\n",
            "@prefix ts: <http://example.org/timeseries#> .\n",
            "@prefix xsd: <http://www.w3.org/2001/XMLSchema#> .\n",
            "\n",
            "ts:SOCValue a owl:DatatypeProperty ;\n",
            "    rdfs:domain ts:Measurement ;\n",
            "    rdfs:range xsd:float .\n",
            "\n",
            "ts:TimeSeries1 a ts:TimeSeries ;\n",
            "    ts:hasMeasurement ts:Measurement1,\n",
            "        ts:Measurement10,\n",
            "        ts:Measurement2,\n",
            "        ts:Measurement3,\n",
            "        ts:Measurement4,\n",
            "        ts:Measurement5,\n",
            "        ts:Measurement6,\n",
            "        ts:Measurement7,\n",
            "        ts:Measurement8,\n",
            "        ts:Measurement9 .\n",
            "\n",
            "ts:currentValue a owl:DatatypeProperty ;\n",
            "    rdfs:domain ts:Measurement ;\n",
            "    rdfs:range xsd:float .\n",
            "\n",
            "ts:densityValue a owl:DatatypeProperty ;\n",
            "    rdfs:domain ts:Measurement ;\n",
            "    rdfs:range xsd:float .\n",
            "\n",
            "ts:hasMeasurement a owl:ObjectProperty ;\n",
            "    rdfs:domain ts:TimeSeries ;\n",
            "    rdfs:range ts:Measurement .\n",
            "\n",
            "ts:temperatureValue a owl:DatatypeProperty ;\n",
            "    rdfs:domain ts:Measurement ;\n",
            "    rdfs:range xsd:float .\n",
            "\n",
            "ts:timestamp a owl:DatatypeProperty ;\n",
            "    rdfs:domain ts:Measurement ;\n",
            "    rdfs:range xsd:dateTime .\n",
            "\n",
            "ts:Measurement1 a ts:Measurement ;\n",
            "    ts:SOCValue \"0.8\"^^xsd:float ;\n",
            "    ts:currentValue \"5.0\"^^xsd:float ;\n",
            "    ts:densityValue \"1.2\"^^xsd:float ;\n",
            "    ts:temperatureValue \"30.0\"^^xsd:float ;\n",
            "    ts:timestamp \"2024-10-01T12:00:00\"^^xsd:dateTime .\n",
            "\n",
            "ts:Measurement10 a ts:Measurement ;\n",
            "    ts:SOCValue \"0.73\"^^xsd:float ;\n",
            "    ts:currentValue \"9.0\"^^xsd:float ;\n",
            "    ts:densityValue \"1.55\"^^xsd:float ;\n",
            "    ts:temperatureValue \"32.0\"^^xsd:float ;\n",
            "    ts:timestamp \"2024-10-01T12:09:00\"^^xsd:dateTime .\n",
            "\n",
            "ts:Measurement2 a ts:Measurement ;\n",
            "    ts:SOCValue \"0.79\"^^xsd:float ;\n",
            "    ts:currentValue \"6.0\"^^xsd:float ;\n",
            "    ts:densityValue \"1.3\"^^xsd:float ;\n",
            "    ts:temperatureValue \"31.0\"^^xsd:float ;\n",
            "    ts:timestamp \"2024-10-01T12:01:00\"^^xsd:dateTime .\n",
            "\n",
            "ts:Measurement3 a ts:Measurement ;\n",
            "    ts:SOCValue \"0.82\"^^xsd:float ;\n",
            "    ts:currentValue \"5.5\"^^xsd:float ;\n",
            "    ts:densityValue \"1.25\"^^xsd:float ;\n",
            "    ts:temperatureValue \"30.5\"^^xsd:float ;\n",
            "    ts:timestamp \"2024-10-01T12:02:00\"^^xsd:dateTime .\n",
            "\n",
            "ts:Measurement4 a ts:Measurement ;\n",
            "    ts:SOCValue \"0.78\"^^xsd:float ;\n",
            "    ts:currentValue \"7.0\"^^xsd:float ;\n",
            "    ts:densityValue \"1.4\"^^xsd:float ;\n",
            "    ts:temperatureValue \"32.0\"^^xsd:float ;\n",
            "    ts:timestamp \"2024-10-01T12:03:00\"^^xsd:dateTime .\n",
            "\n",
            "ts:Measurement5 a ts:Measurement ;\n",
            "    ts:SOCValue \"0.8\"^^xsd:float ;\n",
            "    ts:currentValue \"6.5\"^^xsd:float ;\n",
            "    ts:densityValue \"1.35\"^^xsd:float ;\n",
            "    ts:temperatureValue \"31.5\"^^xsd:float ;\n",
            "    ts:timestamp \"2024-10-01T12:04:00\"^^xsd:dateTime .\n",
            "\n",
            "ts:Measurement6 a ts:Measurement ;\n",
            "    ts:SOCValue \"0.77\"^^xsd:float ;\n",
            "    ts:currentValue \"5.0\"^^xsd:float ;\n",
            "    ts:densityValue \"1.3\"^^xsd:float ;\n",
            "    ts:temperatureValue \"30.0\"^^xsd:float ;\n",
            "    ts:timestamp \"2024-10-01T12:05:00\"^^xsd:dateTime .\n",
            "\n",
            "ts:Measurement7 a ts:Measurement ;\n",
            "    ts:SOCValue \"0.76\"^^xsd:float ;\n",
            "    ts:currentValue \"6.0\"^^xsd:float ;\n",
            "    ts:densityValue \"1.4\"^^xsd:float ;\n",
            "    ts:temperatureValue \"29.0\"^^xsd:float ;\n",
            "    ts:timestamp \"2024-10-01T12:06:00\"^^xsd:dateTime .\n",
            "\n",
            "ts:Measurement8 a ts:Measurement ;\n",
            "    ts:SOCValue \"0.75\"^^xsd:float ;\n",
            "    ts:currentValue \"7.5\"^^xsd:float ;\n",
            "    ts:densityValue \"1.45\"^^xsd:float ;\n",
            "    ts:temperatureValue \"30.0\"^^xsd:float ;\n",
            "    ts:timestamp \"2024-10-01T12:07:00\"^^xsd:dateTime .\n",
            "\n",
            "ts:Measurement9 a ts:Measurement ;\n",
            "    ts:SOCValue \"0.74\"^^xsd:float ;\n",
            "    ts:currentValue \"8.0\"^^xsd:float ;\n",
            "    ts:densityValue \"1.5\"^^xsd:float ;\n",
            "    ts:temperatureValue \"31.0\"^^xsd:float ;\n",
            "    ts:timestamp \"2024-10-01T12:08:00\"^^xsd:dateTime .\n",
            "\n",
            "ts:TimeSeries a owl:Class .\n",
            "\n",
            "ts:Measurement a owl:Class .\n",
            "\n",
            "\n"
          ]
        }
      ],
      "source": [
        "import pandas as pd\n",
        "from rdflib import Graph, URIRef, Literal, Namespace\n",
        "from rdflib.namespace import XSD, RDF, RDFS, OWL\n",
        "\n",
        "# Load the CSV file into a DataFrame\n",
        "df = pd.read_csv('timeseries.csv')\n",
        "\n",
        "# Create a new RDF graph\n",
        "g = Graph()\n",
        "\n",
        "# Define a namespace for your ontology\n",
        "TS = Namespace(\"http://example.org/timeseries#\")\n",
        "g.bind(\"ts\", TS)\n",
        "\n",
        "# Define classes in the ontology (TimeSeries, Measurement)\n",
        "g.add((TS.TimeSeries, RDF.type, OWL.Class))\n",
        "g.add((TS.Measurement, RDF.type, OWL.Class))\n",
        "\n",
        "# Define object properties for relationships\n",
        "g.add((TS.hasMeasurement, RDF.type, OWL.ObjectProperty))\n",
        "g.add((TS.hasMeasurement, RDFS.domain, TS.TimeSeries))\n",
        "g.add((TS.hasMeasurement, RDFS.range, TS.Measurement))\n",
        "\n",
        "# Define data properties for measurement values\n",
        "g.add((TS.densityValue, RDF.type, OWL.DatatypeProperty))\n",
        "g.add((TS.densityValue, RDFS.domain, TS.Measurement))\n",
        "g.add((TS.densityValue, RDFS.range, XSD.float))\n",
        "\n",
        "g.add((TS.temperatureValue, RDF.type, OWL.DatatypeProperty))\n",
        "g.add((TS.temperatureValue, RDFS.domain, TS.Measurement))\n",
        "g.add((TS.temperatureValue, RDFS.range, XSD.float))\n",
        "\n",
        "g.add((TS.currentValue, RDF.type, OWL.DatatypeProperty))\n",
        "g.add((TS.currentValue, RDFS.domain, TS.Measurement))\n",
        "g.add((TS.currentValue, RDFS.range, XSD.float))\n",
        "\n",
        "g.add((TS.SOCValue, RDF.type, OWL.DatatypeProperty))\n",
        "g.add((TS.SOCValue, RDFS.domain, TS.Measurement))\n",
        "g.add((TS.SOCValue, RDFS.range, XSD.float))\n",
        "\n",
        "g.add((TS.timestamp, RDF.type, OWL.DatatypeProperty))\n",
        "g.add((TS.timestamp, RDFS.domain, TS.Measurement))\n",
        "g.add((TS.timestamp, RDFS.range, XSD.dateTime))\n",
        "\n",
        "# Create a TimeSeries instance\n",
        "time_series_instance = TS.TimeSeries1\n",
        "g.add((time_series_instance, RDF.type, TS.TimeSeries))\n",
        "\n",
        "# Populate the RDF graph with data\n",
        "for index, row in df.iterrows():\n",
        "    measurement = TS[f\"Measurement{index + 1}\"]  # Unique URI for each measurement\n",
        "\n",
        "    g.add((measurement, RDF.type, TS.Measurement))\n",
        "    g.add((measurement, TS.densityValue, Literal(row['Density'], datatype=XSD.float)))\n",
        "    g.add((measurement, TS.temperatureValue, Literal(row['Temperature'], datatype=XSD.float)))\n",
        "    g.add((measurement, TS.currentValue, Literal(row['Current'], datatype=XSD.float)))\n",
        "    g.add((measurement, TS.SOCValue, Literal(row['SOC'], datatype=XSD.float)))\n",
        "    g.add((measurement, TS.timestamp, Literal(row['Timestamp'], datatype=XSD.dateTime)))\n",
        "\n",
        "    # Link measurement to the time series\n",
        "    g.add((time_series_instance, TS.hasMeasurement, measurement))\n",
        "\n",
        "# Save the graph to an OWL file (Turtle format is still a valid OWL format)\n",
        "g.serialize(destination='timeseries.owl', format='turtle')\n",
        "\n",
        "# Print the OWL graph in Turtle format\n",
        "print(g.serialize(format='turtle'))\n"
      ]
    },
    {
      "cell_type": "code",
      "source": [
        "import matplotlib.pyplot as plt\n",
        "from rdflib import Graph\n",
        "import numpy as np\n",
        "\n",
        "# Load the OWL file into a graph\n",
        "g = Graph()\n",
        "g.parse(\"timeseries.owl\", format=\"turtle\")\n",
        "\n",
        "# SPARQL query to get SOC and Temperature values\n",
        "query = \"\"\"\n",
        "    PREFIX ts: <http://example.org/timeseries#>\n",
        "    SELECT ?density ?temperature\n",
        "    WHERE {\n",
        "        ?measurement a ts:Measurement ;\n",
        "                     ts:densityValue ?density ;\n",
        "                     ts:temperatureValue ?temperature .\n",
        "    }\n",
        "\"\"\"\n",
        "\n",
        "# Execute the SPARQL query\n",
        "results = g.query(query)\n",
        "\n",
        "# Extract SOC and Temperature values\n",
        "density_values = []\n",
        "temperature_values = []\n",
        "\n",
        "for row in results:\n",
        "    density_values.append(float(row.density))          # density\n",
        "    temperature_values.append(float(row.temperature))  # Temperature\n",
        "\n",
        "# Convert to numpy arrays for plotting (optional but convenient)\n",
        "density_values = np.array(density_values)\n",
        "temperature_values = np.array(temperature_values)\n",
        "\n",
        "# Plot SOC vs Temperature\n",
        "plt.figure(figsize=(8, 6))\n",
        "plt.scatter(temperature_values, density_values, label='density vs Temperature')\n",
        "plt.xlabel('Temperature (°C)')\n",
        "plt.ylabel('density (State of Charge)')\n",
        "plt.title('density vs Temperature')\n",
        "plt.grid(True)\n",
        "plt.legend()\n",
        "plt.show()\n"
      ],
      "metadata": {
        "colab": {
          "base_uri": "https://localhost:8080/",
          "height": 564
        },
        "id": "4F7uJeIrpula",
        "outputId": "6a2e3cc0-68fb-49c0-d5b9-c359aa8f161f"
      },
      "execution_count": null,
      "outputs": [
        {
          "output_type": "display_data",
          "data": {
            "text/plain": [
              "<Figure size 800x600 with 1 Axes>"
            ],
            "image/png": "[encoded data removed]"
          },
          "metadata": {}
        }
      ]
    },
    {
      "cell_type": "code",
      "source": [],
      "metadata": {
        "id": "bzENJreFQEfX"
      },
      "execution_count": null,
      "outputs": []
    },
    {
      "cell_type": "code",
      "source": [],
      "metadata": {
        "id": "B1m2vz4eKgZu"
      },
      "execution_count": null,
      "outputs": []
    }
  ]
}